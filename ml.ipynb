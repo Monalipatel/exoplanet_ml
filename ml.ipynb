{
 "cells": [
  {
   "cell_type": "markdown",
   "metadata": {},
   "source": [
    "# Import Dependencies"
   ]
  },
  {
   "cell_type": "code",
   "execution_count": 1,
   "metadata": {
    "ExecuteTime": {
     "end_time": "2020-02-24T13:33:11.242844Z",
     "start_time": "2020-02-24T13:33:10.077437Z"
    }
   },
   "outputs": [],
   "source": [
    "%matplotlib inline"
   ]
  },
  {
   "cell_type": "code",
   "execution_count": 2,
   "metadata": {
    "ExecuteTime": {
     "end_time": "2020-02-24T13:33:12.674684Z",
     "start_time": "2020-02-24T13:33:11.246967Z"
    }
   },
   "outputs": [],
   "source": [
    "import pandas as pd\n",
    "import os\n",
    "import matplotlib.pyplot as plt\n",
    "import numpy as np\n",
    "\n",
    "from sklearn.ensemble import ExtraTreesClassifier\n",
    "from sklearn.feature_selection import SelectKBest\n",
    "from sklearn.feature_selection import chi2\n",
    "from sklearn.utils import resample\n",
    "from sklearn.model_selection import train_test_split\n",
    "from sklearn.preprocessing import StandardScaler\n",
    "from sklearn.model_selection import GridSearchCV\n",
    "from sklearn.metrics import confusion_matrix\n",
    "from sklearn.metrics import classification_report\n",
    "from sklearn.ensemble import RandomForestClassifier\n",
    "from sklearn.svm import SVC\n",
    "from sklearn.linear_model import LogisticRegression"
   ]
  },
  {
   "cell_type": "markdown",
   "metadata": {},
   "source": [
    "# Preprocess Data"
   ]
  },
  {
   "cell_type": "markdown",
   "metadata": {
    "heading_collapsed": true
   },
   "source": [
    "## Import Raw Data and Perform Basic Data Cleaning"
   ]
  },
  {
   "cell_type": "markdown",
   "metadata": {
    "hidden": true
   },
   "source": [
    "The idea behind this project is to determine the category of a Kepler object of interest based on observed values. \"Koi_pdisposition\" and \"koi_score\" are derived from the data and related to \"koi_disposition,\" which is the target; therefore, I will drop these columns.\n",
    "\n",
    "The following columns are simply multiple ways of referring to the same objects of interest: \"kepid,\" \"kepoi_name,\" \"kepler_name.\" As these will not be used as features, I will drop them.\n",
    "\n",
    "\"Koi_tce_delivname\" is a unique string label corresponding to TCE data and will also be dropped."
   ]
  },
  {
   "cell_type": "code",
   "execution_count": 3,
   "metadata": {
    "ExecuteTime": {
     "end_time": "2020-02-24T13:33:12.790617Z",
     "start_time": "2020-02-24T13:33:12.677001Z"
    },
    "hidden": true
   },
   "outputs": [],
   "source": [
    "# Import data\n",
    "df = pd.read_csv(os.path.join(\"Resources\", \"cumulative.csv\"))"
   ]
  },
  {
   "cell_type": "markdown",
   "metadata": {
    "hidden": true
   },
   "source": [
    "### Drop columns that will not be used in model\n",
    "\n",
    "* The idea behind this project is to determine the category of a Kepler object of interest based on observed values. \"Koi_pdisposition\" and \"koi_score\" are derived from the data and related to \"koi_disposition,\" which is the target; therefore, I will drop these columns.\n",
    "* The following columns are simply multiple ways of referring to the same objects of interest: \"kepid,\" \"kepoi_name,\" \"kepler_name.\" As these will not be used as features, I will drop them.\n",
    "* \"Koi_tce_delivname\" is a unique string label corresponding to TCE data and will also be dropped.\n",
    "* All of the columns tagged w/ err indicate uncertainty in the corresponding measurement. As the measurements in and of themselves can not be used in a model, as the are related to other measurements, the options are to perform some calculation on these data, creating new features, or dropping the columns. I have decided to drop the columns and will include that in my assumptions for this model."
   ]
  },
  {
   "cell_type": "code",
   "execution_count": 4,
   "metadata": {
    "ExecuteTime": {
     "end_time": "2020-02-24T13:33:12.838178Z",
     "start_time": "2020-02-24T13:33:12.793473Z"
    },
    "hidden": true
   },
   "outputs": [
    {
     "data": {
      "text/html": [
       "<div>\n",
       "<style scoped>\n",
       "    .dataframe tbody tr th:only-of-type {\n",
       "        vertical-align: middle;\n",
       "    }\n",
       "\n",
       "    .dataframe tbody tr th {\n",
       "        vertical-align: top;\n",
       "    }\n",
       "\n",
       "    .dataframe thead th {\n",
       "        text-align: right;\n",
       "    }\n",
       "</style>\n",
       "<table border=\"1\" class=\"dataframe\">\n",
       "  <thead>\n",
       "    <tr style=\"text-align: right;\">\n",
       "      <th></th>\n",
       "      <th>koi_disposition</th>\n",
       "      <th>koi_fpflag_nt</th>\n",
       "      <th>koi_fpflag_ss</th>\n",
       "      <th>koi_fpflag_co</th>\n",
       "      <th>koi_fpflag_ec</th>\n",
       "      <th>koi_period</th>\n",
       "      <th>koi_time0bk</th>\n",
       "      <th>koi_impact</th>\n",
       "      <th>koi_duration</th>\n",
       "      <th>koi_depth</th>\n",
       "      <th>...</th>\n",
       "      <th>koi_teq</th>\n",
       "      <th>koi_insol</th>\n",
       "      <th>koi_model_snr</th>\n",
       "      <th>koi_tce_plnt_num</th>\n",
       "      <th>koi_steff</th>\n",
       "      <th>koi_slogg</th>\n",
       "      <th>koi_srad</th>\n",
       "      <th>ra</th>\n",
       "      <th>dec</th>\n",
       "      <th>koi_kepmag</th>\n",
       "    </tr>\n",
       "  </thead>\n",
       "  <tbody>\n",
       "    <tr>\n",
       "      <th>0</th>\n",
       "      <td>CONFIRMED</td>\n",
       "      <td>0</td>\n",
       "      <td>0</td>\n",
       "      <td>0</td>\n",
       "      <td>0</td>\n",
       "      <td>9.488036</td>\n",
       "      <td>170.538750</td>\n",
       "      <td>0.146</td>\n",
       "      <td>2.95750</td>\n",
       "      <td>615.8</td>\n",
       "      <td>...</td>\n",
       "      <td>793.0</td>\n",
       "      <td>93.59</td>\n",
       "      <td>35.8</td>\n",
       "      <td>1.0</td>\n",
       "      <td>5455.0</td>\n",
       "      <td>4.467</td>\n",
       "      <td>0.927</td>\n",
       "      <td>291.93423</td>\n",
       "      <td>48.141651</td>\n",
       "      <td>15.347</td>\n",
       "    </tr>\n",
       "    <tr>\n",
       "      <th>1</th>\n",
       "      <td>CONFIRMED</td>\n",
       "      <td>0</td>\n",
       "      <td>0</td>\n",
       "      <td>0</td>\n",
       "      <td>0</td>\n",
       "      <td>54.418383</td>\n",
       "      <td>162.513840</td>\n",
       "      <td>0.586</td>\n",
       "      <td>4.50700</td>\n",
       "      <td>874.8</td>\n",
       "      <td>...</td>\n",
       "      <td>443.0</td>\n",
       "      <td>9.11</td>\n",
       "      <td>25.8</td>\n",
       "      <td>2.0</td>\n",
       "      <td>5455.0</td>\n",
       "      <td>4.467</td>\n",
       "      <td>0.927</td>\n",
       "      <td>291.93423</td>\n",
       "      <td>48.141651</td>\n",
       "      <td>15.347</td>\n",
       "    </tr>\n",
       "    <tr>\n",
       "      <th>2</th>\n",
       "      <td>FALSE POSITIVE</td>\n",
       "      <td>0</td>\n",
       "      <td>1</td>\n",
       "      <td>0</td>\n",
       "      <td>0</td>\n",
       "      <td>19.899140</td>\n",
       "      <td>175.850252</td>\n",
       "      <td>0.969</td>\n",
       "      <td>1.78220</td>\n",
       "      <td>10829.0</td>\n",
       "      <td>...</td>\n",
       "      <td>638.0</td>\n",
       "      <td>39.30</td>\n",
       "      <td>76.3</td>\n",
       "      <td>1.0</td>\n",
       "      <td>5853.0</td>\n",
       "      <td>4.544</td>\n",
       "      <td>0.868</td>\n",
       "      <td>297.00482</td>\n",
       "      <td>48.134129</td>\n",
       "      <td>15.436</td>\n",
       "    </tr>\n",
       "    <tr>\n",
       "      <th>3</th>\n",
       "      <td>FALSE POSITIVE</td>\n",
       "      <td>0</td>\n",
       "      <td>1</td>\n",
       "      <td>0</td>\n",
       "      <td>0</td>\n",
       "      <td>1.736952</td>\n",
       "      <td>170.307565</td>\n",
       "      <td>1.276</td>\n",
       "      <td>2.40641</td>\n",
       "      <td>8079.2</td>\n",
       "      <td>...</td>\n",
       "      <td>1395.0</td>\n",
       "      <td>891.96</td>\n",
       "      <td>505.6</td>\n",
       "      <td>1.0</td>\n",
       "      <td>5805.0</td>\n",
       "      <td>4.564</td>\n",
       "      <td>0.791</td>\n",
       "      <td>285.53461</td>\n",
       "      <td>48.285210</td>\n",
       "      <td>15.597</td>\n",
       "    </tr>\n",
       "    <tr>\n",
       "      <th>4</th>\n",
       "      <td>CONFIRMED</td>\n",
       "      <td>0</td>\n",
       "      <td>0</td>\n",
       "      <td>0</td>\n",
       "      <td>0</td>\n",
       "      <td>2.525592</td>\n",
       "      <td>171.595550</td>\n",
       "      <td>0.701</td>\n",
       "      <td>1.65450</td>\n",
       "      <td>603.3</td>\n",
       "      <td>...</td>\n",
       "      <td>1406.0</td>\n",
       "      <td>926.16</td>\n",
       "      <td>40.9</td>\n",
       "      <td>1.0</td>\n",
       "      <td>6031.0</td>\n",
       "      <td>4.438</td>\n",
       "      <td>1.046</td>\n",
       "      <td>288.75488</td>\n",
       "      <td>48.226200</td>\n",
       "      <td>15.509</td>\n",
       "    </tr>\n",
       "  </tbody>\n",
       "</table>\n",
       "<p>5 rows × 21 columns</p>\n",
       "</div>"
      ],
      "text/plain": [
       "  koi_disposition  koi_fpflag_nt  koi_fpflag_ss  koi_fpflag_co  koi_fpflag_ec  \\\n",
       "0       CONFIRMED              0              0              0              0   \n",
       "1       CONFIRMED              0              0              0              0   \n",
       "2  FALSE POSITIVE              0              1              0              0   \n",
       "3  FALSE POSITIVE              0              1              0              0   \n",
       "4       CONFIRMED              0              0              0              0   \n",
       "\n",
       "   koi_period  koi_time0bk  koi_impact  koi_duration  koi_depth  ...  koi_teq  \\\n",
       "0    9.488036   170.538750       0.146       2.95750      615.8  ...    793.0   \n",
       "1   54.418383   162.513840       0.586       4.50700      874.8  ...    443.0   \n",
       "2   19.899140   175.850252       0.969       1.78220    10829.0  ...    638.0   \n",
       "3    1.736952   170.307565       1.276       2.40641     8079.2  ...   1395.0   \n",
       "4    2.525592   171.595550       0.701       1.65450      603.3  ...   1406.0   \n",
       "\n",
       "   koi_insol  koi_model_snr  koi_tce_plnt_num  koi_steff  koi_slogg  koi_srad  \\\n",
       "0      93.59           35.8               1.0     5455.0      4.467     0.927   \n",
       "1       9.11           25.8               2.0     5455.0      4.467     0.927   \n",
       "2      39.30           76.3               1.0     5853.0      4.544     0.868   \n",
       "3     891.96          505.6               1.0     5805.0      4.564     0.791   \n",
       "4     926.16           40.9               1.0     6031.0      4.438     1.046   \n",
       "\n",
       "          ra        dec  koi_kepmag  \n",
       "0  291.93423  48.141651      15.347  \n",
       "1  291.93423  48.141651      15.347  \n",
       "2  297.00482  48.134129      15.436  \n",
       "3  285.53461  48.285210      15.597  \n",
       "4  288.75488  48.226200      15.509  \n",
       "\n",
       "[5 rows x 21 columns]"
      ]
     },
     "execution_count": 4,
     "metadata": {},
     "output_type": "execute_result"
    }
   ],
   "source": [
    "# Drop columns that will not be used in model\n",
    "df.drop(columns=[\"rowid\", \"kepid\", \"kepoi_name\", \"kepler_name\", \\\n",
    "                      \"koi_pdisposition\", \"koi_score\", \"koi_tce_delivname\"],\\\n",
    "       inplace = True)\n",
    "\n",
    "err_list = [column for column in df.columns if \"err\" in column]\n",
    "\n",
    "df.drop(columns = err_list, inplace = True)\n",
    "\n",
    "# Preview Data\n",
    "df.head()"
   ]
  },
  {
   "cell_type": "markdown",
   "metadata": {
    "hidden": true
   },
   "source": [
    "### Verify data are of the correct type"
   ]
  },
  {
   "cell_type": "code",
   "execution_count": 5,
   "metadata": {
    "ExecuteTime": {
     "end_time": "2020-02-24T13:33:12.852177Z",
     "start_time": "2020-02-24T13:33:12.842270Z"
    },
    "hidden": true
   },
   "outputs": [
    {
     "name": "stdout",
     "output_type": "stream",
     "text": [
      "Data types: \n",
      "koi_disposition      object\n",
      "koi_fpflag_nt         int64\n",
      "koi_fpflag_ss         int64\n",
      "koi_fpflag_co         int64\n",
      "koi_fpflag_ec         int64\n",
      "koi_period          float64\n",
      "koi_time0bk         float64\n",
      "koi_impact          float64\n",
      "koi_duration        float64\n",
      "koi_depth           float64\n",
      "koi_prad            float64\n",
      "koi_teq             float64\n",
      "koi_insol           float64\n",
      "koi_model_snr       float64\n",
      "koi_tce_plnt_num    float64\n",
      "koi_steff           float64\n",
      "koi_slogg           float64\n",
      "koi_srad            float64\n",
      "ra                  float64\n",
      "dec                 float64\n",
      "koi_kepmag          float64\n",
      "dtype: object\n"
     ]
    }
   ],
   "source": [
    "print(f\"Data types: \\n{df.dtypes}\")"
   ]
  },
  {
   "cell_type": "markdown",
   "metadata": {
    "hidden": true
   },
   "source": [
    "#### Verify values \"make sense\" for for non-float columns"
   ]
  },
  {
   "cell_type": "code",
   "execution_count": 6,
   "metadata": {
    "ExecuteTime": {
     "end_time": "2020-02-24T13:33:12.865261Z",
     "start_time": "2020-02-24T13:33:12.859671Z"
    },
    "hidden": true
   },
   "outputs": [
    {
     "name": "stdout",
     "output_type": "stream",
     "text": [
      "Disposition: ['CONFIRMED' 'FALSE POSITIVE' 'CANDIDATE']\n",
      "\n"
     ]
    }
   ],
   "source": [
    "# Disposition will be our target. It is a discrete list of strings\n",
    "print(f\"Disposition: {df.koi_disposition.unique()}\\n\")"
   ]
  },
  {
   "cell_type": "code",
   "execution_count": 7,
   "metadata": {
    "ExecuteTime": {
     "end_time": "2020-02-24T13:33:12.896719Z",
     "start_time": "2020-02-24T13:33:12.869954Z"
    },
    "hidden": true
   },
   "outputs": [
    {
     "name": "stdout",
     "output_type": "stream",
     "text": [
      "flag1: [0 1]\n",
      "\n",
      "flag2: [0 1]\n",
      "\n",
      "flag3: [0 1]\n",
      "\n",
      "flag4: [0 1]\n",
      "\n"
     ]
    }
   ],
   "source": [
    "# All of the fpflag values are bools indicating certain properties\n",
    "print(f\"flag1: {df.koi_fpflag_nt.unique()}\\n\")\n",
    "print(f\"flag2: {df.koi_fpflag_ss.unique()}\\n\")\n",
    "print(f\"flag3: {df.koi_fpflag_co.unique()}\\n\")\n",
    "print(f\"flag4: {df.koi_fpflag_ec.unique()}\\n\")"
   ]
  },
  {
   "cell_type": "markdown",
   "metadata": {
    "hidden": true
   },
   "source": [
    "### Manage missing data"
   ]
  },
  {
   "cell_type": "code",
   "execution_count": 8,
   "metadata": {
    "ExecuteTime": {
     "end_time": "2020-02-24T13:33:12.937612Z",
     "start_time": "2020-02-24T13:33:12.918858Z"
    },
    "hidden": true
   },
   "outputs": [
    {
     "name": "stdout",
     "output_type": "stream",
     "text": [
      "Number of rows: 9564\n",
      "Missing data:  \n",
      "koi_disposition       0\n",
      "koi_fpflag_nt         0\n",
      "koi_fpflag_ss         0\n",
      "koi_fpflag_co         0\n",
      "koi_fpflag_ec         0\n",
      "koi_period            0\n",
      "koi_time0bk           0\n",
      "koi_impact          363\n",
      "koi_duration          0\n",
      "koi_depth           363\n",
      "koi_prad            363\n",
      "koi_teq             363\n",
      "koi_insol           321\n",
      "koi_model_snr       363\n",
      "koi_tce_plnt_num    346\n",
      "koi_steff           363\n",
      "koi_slogg           363\n",
      "koi_srad            363\n",
      "ra                    0\n",
      "dec                   0\n",
      "koi_kepmag            1\n",
      "dtype: int64\n"
     ]
    }
   ],
   "source": [
    "# Display columns with missing data\n",
    "print(f\"Number of rows: {len(df)}\")\n",
    "print(f\"Missing data:  \\n{df.isnull().sum()}\")"
   ]
  },
  {
   "cell_type": "markdown",
   "metadata": {
    "ExecuteTime": {
     "end_time": "2020-02-20T19:07:18.141592Z",
     "start_time": "2020-02-20T19:07:18.135646Z"
    },
    "hidden": true
   },
   "source": [
    "There is not an insignificant number of missing values. Must decide whether to remove the data or replace. As I do not want to lose data that could be valuable in the model, I will inpute the data using knn, which tends to be more accurate than many other inputation methods. Its biggest drawback is that it is computationally expensive; however, as this dataset is relatively small, this should not be an issue."
   ]
  },
  {
   "cell_type": "code",
   "execution_count": 9,
   "metadata": {
    "ExecuteTime": {
     "end_time": "2020-02-24T13:33:14.696934Z",
     "start_time": "2020-02-24T13:33:12.944961Z"
    },
    "hidden": true
   },
   "outputs": [],
   "source": [
    "# Split into X and y\n",
    "y = df[\"koi_disposition\"]\n",
    "X = df.drop(columns = \"koi_disposition\")\n",
    "cols = X.columns\n",
    "\n",
    "#Impute values using KNN\n",
    "imputer = KNNImputer()\n",
    "X = pd.DataFrame(imputer.fit_transform(X), columns = cols)"
   ]
  },
  {
   "cell_type": "markdown",
   "metadata": {},
   "source": [
    "## Feature Selection"
   ]
  },
  {
   "cell_type": "code",
   "execution_count": 10,
   "metadata": {
    "ExecuteTime": {
     "end_time": "2020-02-24T13:33:14.820140Z",
     "start_time": "2020-02-24T13:33:14.700747Z"
    }
   },
   "outputs": [
    {
     "data": {
      "text/html": [
       "<div>\n",
       "<style scoped>\n",
       "    .dataframe tbody tr th:only-of-type {\n",
       "        vertical-align: middle;\n",
       "    }\n",
       "\n",
       "    .dataframe tbody tr th {\n",
       "        vertical-align: top;\n",
       "    }\n",
       "\n",
       "    .dataframe thead th {\n",
       "        text-align: right;\n",
       "    }\n",
       "</style>\n",
       "<table border=\"1\" class=\"dataframe\">\n",
       "  <thead>\n",
       "    <tr style=\"text-align: right;\">\n",
       "      <th></th>\n",
       "      <th>koi_fpflag_nt</th>\n",
       "      <th>koi_fpflag_ss</th>\n",
       "      <th>koi_fpflag_co</th>\n",
       "      <th>koi_fpflag_ec</th>\n",
       "      <th>koi_period</th>\n",
       "      <th>koi_time0bk</th>\n",
       "      <th>koi_impact</th>\n",
       "      <th>koi_duration</th>\n",
       "      <th>koi_depth</th>\n",
       "      <th>koi_prad</th>\n",
       "      <th>koi_teq</th>\n",
       "      <th>koi_insol</th>\n",
       "      <th>koi_model_snr</th>\n",
       "      <th>koi_tce_plnt_num</th>\n",
       "      <th>koi_steff</th>\n",
       "      <th>koi_slogg</th>\n",
       "      <th>koi_srad</th>\n",
       "      <th>ra</th>\n",
       "      <th>dec</th>\n",
       "      <th>koi_kepmag</th>\n",
       "    </tr>\n",
       "  </thead>\n",
       "  <tbody>\n",
       "    <tr>\n",
       "      <th>count</th>\n",
       "      <td>9564.000000</td>\n",
       "      <td>9564.000000</td>\n",
       "      <td>9564.000000</td>\n",
       "      <td>9564.000000</td>\n",
       "      <td>9564.000000</td>\n",
       "      <td>9564.000000</td>\n",
       "      <td>9564.000000</td>\n",
       "      <td>9564.000000</td>\n",
       "      <td>9.564000e+03</td>\n",
       "      <td>9564.000000</td>\n",
       "      <td>9564.000000</td>\n",
       "      <td>9.564000e+03</td>\n",
       "      <td>9564.00000</td>\n",
       "      <td>9564.000000</td>\n",
       "      <td>9564.000000</td>\n",
       "      <td>9564.000000</td>\n",
       "      <td>9564.000000</td>\n",
       "      <td>9564.000000</td>\n",
       "      <td>9564.000000</td>\n",
       "      <td>9564.000000</td>\n",
       "    </tr>\n",
       "    <tr>\n",
       "      <th>mean</th>\n",
       "      <td>0.188206</td>\n",
       "      <td>0.231598</td>\n",
       "      <td>0.194898</td>\n",
       "      <td>0.120033</td>\n",
       "      <td>75.671358</td>\n",
       "      <td>166.183251</td>\n",
       "      <td>0.739376</td>\n",
       "      <td>5.621606</td>\n",
       "      <td>2.344407e+04</td>\n",
       "      <td>106.634937</td>\n",
       "      <td>1077.027415</td>\n",
       "      <td>7.723274e+03</td>\n",
       "      <td>256.66207</td>\n",
       "      <td>1.247972</td>\n",
       "      <td>5706.302656</td>\n",
       "      <td>4.307946</td>\n",
       "      <td>1.742346</td>\n",
       "      <td>292.060163</td>\n",
       "      <td>43.810433</td>\n",
       "      <td>14.264669</td>\n",
       "    </tr>\n",
       "    <tr>\n",
       "      <th>std</th>\n",
       "      <td>0.390897</td>\n",
       "      <td>0.421875</td>\n",
       "      <td>0.396143</td>\n",
       "      <td>0.325018</td>\n",
       "      <td>1334.744046</td>\n",
       "      <td>67.918960</td>\n",
       "      <td>3.307982</td>\n",
       "      <td>6.471554</td>\n",
       "      <td>8.091212e+04</td>\n",
       "      <td>3045.420434</td>\n",
       "      <td>856.892902</td>\n",
       "      <td>1.573127e+05</td>\n",
       "      <td>783.06415</td>\n",
       "      <td>0.660116</td>\n",
       "      <td>785.540605</td>\n",
       "      <td>0.428863</td>\n",
       "      <td>6.051975</td>\n",
       "      <td>4.766657</td>\n",
       "      <td>3.601243</td>\n",
       "      <td>1.385389</td>\n",
       "    </tr>\n",
       "    <tr>\n",
       "      <th>min</th>\n",
       "      <td>0.000000</td>\n",
       "      <td>0.000000</td>\n",
       "      <td>0.000000</td>\n",
       "      <td>0.000000</td>\n",
       "      <td>0.241843</td>\n",
       "      <td>120.515914</td>\n",
       "      <td>0.000000</td>\n",
       "      <td>0.052000</td>\n",
       "      <td>0.000000e+00</td>\n",
       "      <td>0.080000</td>\n",
       "      <td>25.000000</td>\n",
       "      <td>0.000000e+00</td>\n",
       "      <td>0.00000</td>\n",
       "      <td>1.000000</td>\n",
       "      <td>2661.000000</td>\n",
       "      <td>0.047000</td>\n",
       "      <td>0.109000</td>\n",
       "      <td>279.852720</td>\n",
       "      <td>36.577381</td>\n",
       "      <td>6.966000</td>\n",
       "    </tr>\n",
       "    <tr>\n",
       "      <th>25%</th>\n",
       "      <td>0.000000</td>\n",
       "      <td>0.000000</td>\n",
       "      <td>0.000000</td>\n",
       "      <td>0.000000</td>\n",
       "      <td>2.733684</td>\n",
       "      <td>132.761718</td>\n",
       "      <td>0.207000</td>\n",
       "      <td>2.437750</td>\n",
       "      <td>1.659750e+02</td>\n",
       "      <td>1.430000</td>\n",
       "      <td>528.000000</td>\n",
       "      <td>1.876250e+01</td>\n",
       "      <td>12.10000</td>\n",
       "      <td>1.000000</td>\n",
       "      <td>5320.000000</td>\n",
       "      <td>4.212000</td>\n",
       "      <td>0.833000</td>\n",
       "      <td>288.660770</td>\n",
       "      <td>40.777173</td>\n",
       "      <td>13.440000</td>\n",
       "    </tr>\n",
       "    <tr>\n",
       "      <th>50%</th>\n",
       "      <td>0.000000</td>\n",
       "      <td>0.000000</td>\n",
       "      <td>0.000000</td>\n",
       "      <td>0.000000</td>\n",
       "      <td>9.752831</td>\n",
       "      <td>137.224595</td>\n",
       "      <td>0.537000</td>\n",
       "      <td>3.792600</td>\n",
       "      <td>4.410000e+02</td>\n",
       "      <td>2.450000</td>\n",
       "      <td>864.000000</td>\n",
       "      <td>1.326200e+02</td>\n",
       "      <td>23.50000</td>\n",
       "      <td>1.000000</td>\n",
       "      <td>5763.000000</td>\n",
       "      <td>4.438000</td>\n",
       "      <td>1.000000</td>\n",
       "      <td>292.261125</td>\n",
       "      <td>43.677504</td>\n",
       "      <td>14.520000</td>\n",
       "    </tr>\n",
       "    <tr>\n",
       "      <th>75%</th>\n",
       "      <td>0.000000</td>\n",
       "      <td>0.000000</td>\n",
       "      <td>0.000000</td>\n",
       "      <td>0.000000</td>\n",
       "      <td>40.715178</td>\n",
       "      <td>170.694603</td>\n",
       "      <td>0.880000</td>\n",
       "      <td>6.276500</td>\n",
       "      <td>1.624950e+03</td>\n",
       "      <td>15.365000</td>\n",
       "      <td>1372.000000</td>\n",
       "      <td>8.369125e+02</td>\n",
       "      <td>81.72500</td>\n",
       "      <td>1.000000</td>\n",
       "      <td>6106.000000</td>\n",
       "      <td>4.540000</td>\n",
       "      <td>1.359000</td>\n",
       "      <td>295.859160</td>\n",
       "      <td>46.714611</td>\n",
       "      <td>15.322000</td>\n",
       "    </tr>\n",
       "    <tr>\n",
       "      <th>max</th>\n",
       "      <td>1.000000</td>\n",
       "      <td>1.000000</td>\n",
       "      <td>1.000000</td>\n",
       "      <td>1.000000</td>\n",
       "      <td>129995.778400</td>\n",
       "      <td>1472.522306</td>\n",
       "      <td>100.806000</td>\n",
       "      <td>138.540000</td>\n",
       "      <td>1.541400e+06</td>\n",
       "      <td>200346.000000</td>\n",
       "      <td>14667.000000</td>\n",
       "      <td>1.094755e+07</td>\n",
       "      <td>9054.70000</td>\n",
       "      <td>8.000000</td>\n",
       "      <td>15896.000000</td>\n",
       "      <td>5.364000</td>\n",
       "      <td>229.908000</td>\n",
       "      <td>301.720760</td>\n",
       "      <td>52.336010</td>\n",
       "      <td>20.003000</td>\n",
       "    </tr>\n",
       "  </tbody>\n",
       "</table>\n",
       "</div>"
      ],
      "text/plain": [
       "       koi_fpflag_nt  koi_fpflag_ss  koi_fpflag_co  koi_fpflag_ec  \\\n",
       "count    9564.000000    9564.000000    9564.000000    9564.000000   \n",
       "mean        0.188206       0.231598       0.194898       0.120033   \n",
       "std         0.390897       0.421875       0.396143       0.325018   \n",
       "min         0.000000       0.000000       0.000000       0.000000   \n",
       "25%         0.000000       0.000000       0.000000       0.000000   \n",
       "50%         0.000000       0.000000       0.000000       0.000000   \n",
       "75%         0.000000       0.000000       0.000000       0.000000   \n",
       "max         1.000000       1.000000       1.000000       1.000000   \n",
       "\n",
       "          koi_period  koi_time0bk   koi_impact  koi_duration     koi_depth  \\\n",
       "count    9564.000000  9564.000000  9564.000000   9564.000000  9.564000e+03   \n",
       "mean       75.671358   166.183251     0.739376      5.621606  2.344407e+04   \n",
       "std      1334.744046    67.918960     3.307982      6.471554  8.091212e+04   \n",
       "min         0.241843   120.515914     0.000000      0.052000  0.000000e+00   \n",
       "25%         2.733684   132.761718     0.207000      2.437750  1.659750e+02   \n",
       "50%         9.752831   137.224595     0.537000      3.792600  4.410000e+02   \n",
       "75%        40.715178   170.694603     0.880000      6.276500  1.624950e+03   \n",
       "max    129995.778400  1472.522306   100.806000    138.540000  1.541400e+06   \n",
       "\n",
       "            koi_prad       koi_teq     koi_insol  koi_model_snr  \\\n",
       "count    9564.000000   9564.000000  9.564000e+03     9564.00000   \n",
       "mean      106.634937   1077.027415  7.723274e+03      256.66207   \n",
       "std      3045.420434    856.892902  1.573127e+05      783.06415   \n",
       "min         0.080000     25.000000  0.000000e+00        0.00000   \n",
       "25%         1.430000    528.000000  1.876250e+01       12.10000   \n",
       "50%         2.450000    864.000000  1.326200e+02       23.50000   \n",
       "75%        15.365000   1372.000000  8.369125e+02       81.72500   \n",
       "max    200346.000000  14667.000000  1.094755e+07     9054.70000   \n",
       "\n",
       "       koi_tce_plnt_num     koi_steff    koi_slogg     koi_srad           ra  \\\n",
       "count       9564.000000   9564.000000  9564.000000  9564.000000  9564.000000   \n",
       "mean           1.247972   5706.302656     4.307946     1.742346   292.060163   \n",
       "std            0.660116    785.540605     0.428863     6.051975     4.766657   \n",
       "min            1.000000   2661.000000     0.047000     0.109000   279.852720   \n",
       "25%            1.000000   5320.000000     4.212000     0.833000   288.660770   \n",
       "50%            1.000000   5763.000000     4.438000     1.000000   292.261125   \n",
       "75%            1.000000   6106.000000     4.540000     1.359000   295.859160   \n",
       "max            8.000000  15896.000000     5.364000   229.908000   301.720760   \n",
       "\n",
       "               dec   koi_kepmag  \n",
       "count  9564.000000  9564.000000  \n",
       "mean     43.810433    14.264669  \n",
       "std       3.601243     1.385389  \n",
       "min      36.577381     6.966000  \n",
       "25%      40.777173    13.440000  \n",
       "50%      43.677504    14.520000  \n",
       "75%      46.714611    15.322000  \n",
       "max      52.336010    20.003000  "
      ]
     },
     "execution_count": 10,
     "metadata": {},
     "output_type": "execute_result"
    }
   ],
   "source": [
    "# Get basic statistics on the data\n",
    "X.describe()"
   ]
  },
  {
   "cell_type": "markdown",
   "metadata": {
    "heading_collapsed": true
   },
   "source": [
    "### Check data distribution and outliers"
   ]
  },
  {
   "cell_type": "code",
   "execution_count": 11,
   "metadata": {
    "ExecuteTime": {
     "end_time": "2020-02-24T13:33:19.567019Z",
     "start_time": "2020-02-24T13:33:14.823767Z"
    },
    "hidden": true
   },
   "outputs": [
    {
     "data": {
      "image/png": "[encoded data removed]",
      "text/plain": [
       "<Figure size 1080x1440 with 20 Axes>"
      ]
     },
     "metadata": {
      "needs_background": "light"
     },
     "output_type": "display_data"
    }
   ],
   "source": [
    "X.hist(figsize=(15,20), color=\"purple\", grid=False);"
   ]
  },
  {
   "cell_type": "markdown",
   "metadata": {
    "hidden": true
   },
   "source": [
    "From above, we can see that there is very skewed distribution on some features, some of which are definitely caused by outliers. For example, the \"koi_period\" has 75% of the data <= 40.7, with a max of 130,000 and a standard deviation of 1334. This can be visualized with boxplots below."
   ]
  },
  {
   "cell_type": "code",
   "execution_count": 12,
   "metadata": {
    "ExecuteTime": {
     "end_time": "2020-02-24T13:33:22.077450Z",
     "start_time": "2020-02-24T13:33:19.569088Z"
    },
    "hidden": true
   },
   "outputs": [
    {
     "data": {
      "image/png": "[encoded data removed]",
      "text/plain": [
       "<Figure size 1080x1440 with 20 Axes>"
      ]
     },
     "metadata": {
      "needs_background": "light"
     },
     "output_type": "display_data"
    }
   ],
   "source": [
    "X.plot(figsize=(15,20), kind='box', subplots=True, layout=(4,5), sharex=False, sharey=False)\n",
    "plt.show()"
   ]
  },
  {
   "cell_type": "markdown",
   "metadata": {
    "hidden": true
   },
   "source": [
    "From the boxplots we can see that most features have a not insignificant number of outliers. For this reason, we must be mindful of removing or replacing them. For now, I will leave the outliers as is and later consider managing them when choosing a model."
   ]
  },
  {
   "cell_type": "markdown",
   "metadata": {},
   "source": [
    "### Feature importance\n",
    "\n",
    "There are various methods of determining feature importance. Here, I will use two model-based approaches--using KNN and Extra-Tree classifiers."
   ]
  },
  {
   "cell_type": "code",
   "execution_count": 13,
   "metadata": {
    "ExecuteTime": {
     "end_time": "2020-02-24T13:33:22.122313Z",
     "start_time": "2020-02-24T13:33:22.079541Z"
    }
   },
   "outputs": [
    {
     "data": {
      "text/html": [
       "<div>\n",
       "<style scoped>\n",
       "    .dataframe tbody tr th:only-of-type {\n",
       "        vertical-align: middle;\n",
       "    }\n",
       "\n",
       "    .dataframe tbody tr th {\n",
       "        vertical-align: top;\n",
       "    }\n",
       "\n",
       "    .dataframe thead th {\n",
       "        text-align: right;\n",
       "    }\n",
       "</style>\n",
       "<table border=\"1\" class=\"dataframe\">\n",
       "  <thead>\n",
       "    <tr style=\"text-align: right;\">\n",
       "      <th></th>\n",
       "      <th>Feature</th>\n",
       "      <th>Score</th>\n",
       "    </tr>\n",
       "  </thead>\n",
       "  <tbody>\n",
       "    <tr>\n",
       "      <th>8</th>\n",
       "      <td>koi_depth</td>\n",
       "      <td>1.755240e+08</td>\n",
       "    </tr>\n",
       "    <tr>\n",
       "      <th>11</th>\n",
       "      <td>koi_insol</td>\n",
       "      <td>3.083127e+07</td>\n",
       "    </tr>\n",
       "    <tr>\n",
       "      <th>12</th>\n",
       "      <td>koi_model_snr</td>\n",
       "      <td>1.193645e+06</td>\n",
       "    </tr>\n",
       "    <tr>\n",
       "      <th>9</th>\n",
       "      <td>koi_prad</td>\n",
       "      <td>6.681905e+05</td>\n",
       "    </tr>\n",
       "    <tr>\n",
       "      <th>10</th>\n",
       "      <td>koi_teq</td>\n",
       "      <td>3.858102e+05</td>\n",
       "    </tr>\n",
       "    <tr>\n",
       "      <th>4</th>\n",
       "      <td>koi_period</td>\n",
       "      <td>1.613493e+05</td>\n",
       "    </tr>\n",
       "    <tr>\n",
       "      <th>14</th>\n",
       "      <td>koi_steff</td>\n",
       "      <td>3.825586e+04</td>\n",
       "    </tr>\n",
       "    <tr>\n",
       "      <th>1</th>\n",
       "      <td>koi_fpflag_ss</td>\n",
       "      <td>1.787714e+03</td>\n",
       "    </tr>\n",
       "    <tr>\n",
       "      <th>7</th>\n",
       "      <td>koi_duration</td>\n",
       "      <td>1.770015e+03</td>\n",
       "    </tr>\n",
       "    <tr>\n",
       "      <th>2</th>\n",
       "      <td>koi_fpflag_co</td>\n",
       "      <td>1.662402e+03</td>\n",
       "    </tr>\n",
       "  </tbody>\n",
       "</table>\n",
       "</div>"
      ],
      "text/plain": [
       "          Feature         Score\n",
       "8       koi_depth  1.755240e+08\n",
       "11      koi_insol  3.083127e+07\n",
       "12  koi_model_snr  1.193645e+06\n",
       "9        koi_prad  6.681905e+05\n",
       "10        koi_teq  3.858102e+05\n",
       "4      koi_period  1.613493e+05\n",
       "14      koi_steff  3.825586e+04\n",
       "1   koi_fpflag_ss  1.787714e+03\n",
       "7    koi_duration  1.770015e+03\n",
       "2   koi_fpflag_co  1.662402e+03"
      ]
     },
     "execution_count": 13,
     "metadata": {},
     "output_type": "execute_result"
    }
   ],
   "source": [
    "# Find top features using SelectKBest\n",
    "KBest = SelectKBest(score_func = chi2, k = 10).fit(X,y)\n",
    "scores_df = pd.DataFrame({\"Feature\": X.columns, \\\n",
    "                          \"Score\": KBest.scores_})\n",
    "scores_df.nlargest(10, \"Score\")"
   ]
  },
  {
   "cell_type": "code",
   "execution_count": 14,
   "metadata": {
    "ExecuteTime": {
     "end_time": "2020-02-24T13:33:22.929826Z",
     "start_time": "2020-02-24T13:33:22.124636Z"
    }
   },
   "outputs": [
    {
     "data": {
      "text/html": [
       "<div>\n",
       "<style scoped>\n",
       "    .dataframe tbody tr th:only-of-type {\n",
       "        vertical-align: middle;\n",
       "    }\n",
       "\n",
       "    .dataframe tbody tr th {\n",
       "        vertical-align: top;\n",
       "    }\n",
       "\n",
       "    .dataframe thead th {\n",
       "        text-align: right;\n",
       "    }\n",
       "</style>\n",
       "<table border=\"1\" class=\"dataframe\">\n",
       "  <thead>\n",
       "    <tr style=\"text-align: right;\">\n",
       "      <th></th>\n",
       "      <th>feature</th>\n",
       "      <th>Importance</th>\n",
       "    </tr>\n",
       "  </thead>\n",
       "  <tbody>\n",
       "    <tr>\n",
       "      <th>0</th>\n",
       "      <td>koi_fpflag_nt</td>\n",
       "      <td>0.175795</td>\n",
       "    </tr>\n",
       "    <tr>\n",
       "      <th>1</th>\n",
       "      <td>koi_fpflag_ss</td>\n",
       "      <td>0.165061</td>\n",
       "    </tr>\n",
       "    <tr>\n",
       "      <th>2</th>\n",
       "      <td>koi_fpflag_co</td>\n",
       "      <td>0.124567</td>\n",
       "    </tr>\n",
       "    <tr>\n",
       "      <th>12</th>\n",
       "      <td>koi_model_snr</td>\n",
       "      <td>0.073628</td>\n",
       "    </tr>\n",
       "    <tr>\n",
       "      <th>3</th>\n",
       "      <td>koi_fpflag_ec</td>\n",
       "      <td>0.048869</td>\n",
       "    </tr>\n",
       "    <tr>\n",
       "      <th>8</th>\n",
       "      <td>koi_depth</td>\n",
       "      <td>0.046415</td>\n",
       "    </tr>\n",
       "    <tr>\n",
       "      <th>9</th>\n",
       "      <td>koi_prad</td>\n",
       "      <td>0.032061</td>\n",
       "    </tr>\n",
       "    <tr>\n",
       "      <th>5</th>\n",
       "      <td>koi_time0bk</td>\n",
       "      <td>0.031719</td>\n",
       "    </tr>\n",
       "    <tr>\n",
       "      <th>4</th>\n",
       "      <td>koi_period</td>\n",
       "      <td>0.030294</td>\n",
       "    </tr>\n",
       "    <tr>\n",
       "      <th>7</th>\n",
       "      <td>koi_duration</td>\n",
       "      <td>0.030264</td>\n",
       "    </tr>\n",
       "  </tbody>\n",
       "</table>\n",
       "</div>"
      ],
      "text/plain": [
       "          feature  Importance\n",
       "0   koi_fpflag_nt    0.175795\n",
       "1   koi_fpflag_ss    0.165061\n",
       "2   koi_fpflag_co    0.124567\n",
       "12  koi_model_snr    0.073628\n",
       "3   koi_fpflag_ec    0.048869\n",
       "8       koi_depth    0.046415\n",
       "9        koi_prad    0.032061\n",
       "5     koi_time0bk    0.031719\n",
       "4      koi_period    0.030294\n",
       "7    koi_duration    0.030264"
      ]
     },
     "execution_count": 14,
     "metadata": {},
     "output_type": "execute_result"
    }
   ],
   "source": [
    "model = ExtraTreesClassifier().fit(X,y)\n",
    "tree_scores_df = pd.DataFrame({\"feature\": X.columns, \\\n",
    "                               \"Importance\": model.feature_importances_})\n",
    "tree_scores_df.nlargest(10, \"Importance\")"
   ]
  },
  {
   "cell_type": "markdown",
   "metadata": {},
   "source": [
    "I will choose the top 3 from each list and then any other feature that occurs on both lists."
   ]
  },
  {
   "cell_type": "code",
   "execution_count": 15,
   "metadata": {
    "ExecuteTime": {
     "end_time": "2020-02-24T13:33:22.937601Z",
     "start_time": "2020-02-24T13:33:22.931786Z"
    }
   },
   "outputs": [],
   "source": [
    "X = X[[\"koi_fpflag_nt\", \"koi_fpflag_ss\",\"koi_fpflag_co\", \"koi_depth\",\\\n",
    "       \"koi_insol\", \"koi_model_snr\", \"koi_teq\", \"koi_prad\", \"koi_duration\"]]"
   ]
  },
  {
   "cell_type": "markdown",
   "metadata": {},
   "source": [
    "## Check distribution of target"
   ]
  },
  {
   "cell_type": "code",
   "execution_count": 16,
   "metadata": {
    "ExecuteTime": {
     "end_time": "2020-02-24T13:33:23.111437Z",
     "start_time": "2020-02-24T13:33:22.940826Z"
    }
   },
   "outputs": [
    {
     "data": {
      "text/plain": [
       "FALSE POSITIVE    5023\n",
       "CONFIRMED         2293\n",
       "CANDIDATE         2248\n",
       "Name: koi_disposition, dtype: int64"
      ]
     },
     "execution_count": 16,
     "metadata": {},
     "output_type": "execute_result"
    },
    {
     "data": {
      "image/png": "[encoded data removed]",
      "text/plain": [
       "<Figure size 432x288 with 1 Axes>"
      ]
     },
     "metadata": {
      "needs_background": "light"
     },
     "output_type": "display_data"
    }
   ],
   "source": [
    "y.hist(color=\"purple\", grid=False);\n",
    "y.value_counts()"
   ]
  },
  {
   "cell_type": "markdown",
   "metadata": {},
   "source": [
    "We can see that this is not a balanced dataset. There are more false positives than candidates and confirmed combined. There are various methods of dealing with an unbalanced dataset. The most important aspect of dealing with an imbalanced dataset is to be mindful of the accuracy metrics used to determine best model."
   ]
  },
  {
   "cell_type": "markdown",
   "metadata": {},
   "source": [
    "## Create a Train Test Split"
   ]
  },
  {
   "cell_type": "code",
   "execution_count": 17,
   "metadata": {
    "ExecuteTime": {
     "end_time": "2020-02-24T13:33:23.129892Z",
     "start_time": "2020-02-24T13:33:23.113796Z"
    }
   },
   "outputs": [],
   "source": [
    "X_train, X_test, y_train, y_test = train_test_split\\\n",
    "    (X, y, stratify = y, random_state=42)"
   ]
  },
  {
   "cell_type": "markdown",
   "metadata": {},
   "source": [
    "## Scale data"
   ]
  },
  {
   "cell_type": "code",
   "execution_count": 18,
   "metadata": {
    "ExecuteTime": {
     "end_time": "2020-02-24T13:33:23.144472Z",
     "start_time": "2020-02-24T13:33:23.132744Z"
    }
   },
   "outputs": [],
   "source": [
    "X_scaler = StandardScaler().fit(X_train)\n",
    "X_train_scaled = X_scaler.transform(X_train)\n",
    "X_test_scaled = X_scaler.transform(X_test)"
   ]
  },
  {
   "cell_type": "markdown",
   "metadata": {},
   "source": [
    "# Create Machine Learning Models"
   ]
  },
  {
   "cell_type": "markdown",
   "metadata": {},
   "source": [
    "## Random Forest Classifier \n",
    "\n",
    "Random forest classifiers tend to work well for muti-class classification problems, especially with unbalanced data."
   ]
  },
  {
   "cell_type": "code",
   "execution_count": 19,
   "metadata": {
    "ExecuteTime": {
     "end_time": "2020-02-24T13:35:39.161568Z",
     "start_time": "2020-02-24T13:33:23.146710Z"
    }
   },
   "outputs": [
    {
     "name": "stdout",
     "output_type": "stream",
     "text": [
      "Best parameters: {'max_features': 'sqrt', 'n_estimators': 300}\n"
     ]
    }
   ],
   "source": [
    "# Define random forest classifier and fit using GridSearchCV\n",
    "parameters = {'n_estimators':[200, 300], \n",
    "              'max_features': (\"sqrt\", \"log2\", None)}\n",
    "rf = GridSearchCV(RandomForestClassifier(), parameters)\n",
    "rf.fit(X_train_scaled, y_train)\n",
    "\n",
    "# Display best parameters\n",
    "print(f\"Best parameters: {rf.best_params_}\")"
   ]
  },
  {
   "cell_type": "code",
   "execution_count": 20,
   "metadata": {
    "ExecuteTime": {
     "end_time": "2020-02-24T13:35:39.436969Z",
     "start_time": "2020-02-24T13:35:39.164077Z"
    }
   },
   "outputs": [
    {
     "name": "stdout",
     "output_type": "stream",
     "text": [
      "[[ 417  126   19]\n",
      " [  82  480   11]\n",
      " [  26   13 1217]]\n",
      "                precision    recall  f1-score   support\n",
      "\n",
      "     CANDIDATE       0.79      0.74      0.77       562\n",
      "     CONFIRMED       0.78      0.84      0.81       573\n",
      "FALSE POSITIVE       0.98      0.97      0.97      1256\n",
      "\n",
      "      accuracy                           0.88      2391\n",
      "     macro avg       0.85      0.85      0.85      2391\n",
      "  weighted avg       0.89      0.88      0.88      2391\n",
      "\n"
     ]
    }
   ],
   "source": [
    "# Display evaluation metrics\n",
    "rf_pred = rf.predict(X_test_scaled)\n",
    "print(confusion_matrix(y_test, rf_pred))\n",
    "print(classification_report(y_test, rf_pred))"
   ]
  },
  {
   "cell_type": "markdown",
   "metadata": {},
   "source": [
    "For each class, precision is the ratio of samples with that class being correctly predicted to the total number of samples.\n",
    "\n",
    "For each class, recall is the ratio of samples with that correct class to the total instances of that class (including those incorrectly labeled).\n",
    "\n",
    "For each class, the F1 score is an accuracy metric that takes both recall and precision into account. The best score is 1.0 and the worst is 0.0.\n",
    "\n",
    "For each class, support is the number of actual occurrences of the class.\n",
    "\n",
    "From this we can see that the random forest works very well at predicting false positives, pretty well at predicting candidates, and ok at predicting confirmed. The reason for these discrepancies is the imbalanced set. All of these metrics will be considered for model comparison."
   ]
  },
  {
   "cell_type": "markdown",
   "metadata": {},
   "source": [
    "## Penalized SVM\n",
    "\n",
    "Support Vector Machines can also be used for multi-class classifiction problems. To account for the imbalanced dataset, we will use a penalized SVM model.\n",
    "\n",
    "To do this, we will set the hyperparameter \"class_weight\" to \"balanced,\" which penalizes mistakes on the minority classes by an amount proportional to how under-represented it is. Additionally, we will set the hyperparameter \"probability\" to \"True\" so as to enable probability estimates."
   ]
  },
  {
   "cell_type": "code",
   "execution_count": 21,
   "metadata": {
    "ExecuteTime": {
     "end_time": "2020-02-24T14:07:57.218462Z",
     "start_time": "2020-02-24T13:35:39.448251Z"
    }
   },
   "outputs": [
    {
     "name": "stdout",
     "output_type": "stream",
     "text": [
      "Best parameters: {'max_features': 'sqrt', 'n_estimators': 300}\n"
     ]
    }
   ],
   "source": [
    "# Define SVM classifier and fit using GridSearchCV\n",
    "parameters = {'C': [0.1, 1, 10],\n",
    "              'gamma': [1, 0.1, 0.01, 0.001],\n",
    "              'kernel': ['linear','rbf', 'poly', 'sigmoid']}\n",
    "\n",
    "svm = GridSearchCV(SVC(class_weight='balanced', probability=True), \\\n",
    "                   parameters)\n",
    "svm.fit(X_train_scaled, y_train)\n",
    "\n",
    "# Display best parameters\n",
    "print(f\"Best parameters: {rf.best_params_}\")"
   ]
  },
  {
   "cell_type": "code",
   "execution_count": 22,
   "metadata": {
    "ExecuteTime": {
     "end_time": "2020-02-24T14:07:57.583176Z",
     "start_time": "2020-02-24T14:07:57.221336Z"
    }
   },
   "outputs": [
    {
     "name": "stdout",
     "output_type": "stream",
     "text": [
      "[[ 468   76   18]\n",
      " [ 232  331   10]\n",
      " [  32   18 1206]]\n",
      "                precision    recall  f1-score   support\n",
      "\n",
      "     CANDIDATE       0.64      0.83      0.72       562\n",
      "     CONFIRMED       0.78      0.58      0.66       573\n",
      "FALSE POSITIVE       0.98      0.96      0.97      1256\n",
      "\n",
      "      accuracy                           0.84      2391\n",
      "     macro avg       0.80      0.79      0.79      2391\n",
      "  weighted avg       0.85      0.84      0.84      2391\n",
      "\n"
     ]
    }
   ],
   "source": [
    "# Display evaluation metrics\n",
    "svm_pred = svm.predict(X_test_scaled)\n",
    "print(confusion_matrix(y_test, svm_pred))\n",
    "print(classification_report(y_test, svm_pred))"
   ]
  },
  {
   "cell_type": "markdown",
   "metadata": {},
   "source": [
    "## Logistic Regression on rebalanced data\n",
    "\n",
    "Logistic regression is a solid muti-class classifier; however, to use it on an imbalanced dataset, rebalancing the dataset will result in the best accuracy.\n",
    "\n",
    "The two main methods of rebalancing a dataset are to upsample and downsample the set. The first will add more samples of the minority class to the data. The latter will remove samples of the majority class to the data. As I do not want to duplicate too much minority data or remove too much majority data, I will scale both the minority and majority classes to the mean of the amount of samples."
   ]
  },
  {
   "cell_type": "code",
   "execution_count": 23,
   "metadata": {
    "ExecuteTime": {
     "end_time": "2020-02-24T14:07:57.608269Z",
     "start_time": "2020-02-24T14:07:57.588881Z"
    }
   },
   "outputs": [],
   "source": [
    "# Recombine dataset\n",
    "df = pd.DataFrame(X)\n",
    "df[\"koi_disposition\"] = y\n",
    "\n",
    "# Separate majority and minority classes\n",
    "df_fp = df.loc[df[\"koi_disposition\"] == \"FALSE POSITIVE\"]\n",
    "df_c = df.loc[df[\"koi_disposition\"] == \"CONFIRMED\"]\n",
    "df_can = df.loc[df[\"koi_disposition\"] == \"CANDIDATE\"]\n",
    " \n",
    "# Downsample majority class\n",
    "df_fp = df_fp.sample(n = 2293,random_state=42)\n",
    "\n",
    "# Combine majority class with upsampled minority class\n",
    "df_rs = pd.concat([df_fp, df_c, df_can])\n",
    " \n",
    "# Separate back into X and y\n",
    "y_rs = df_rs[\"koi_disposition\"]\n",
    "X_rs = df_rs.drop(columns = \"koi_disposition\")"
   ]
  },
  {
   "cell_type": "code",
   "execution_count": 24,
   "metadata": {
    "ExecuteTime": {
     "end_time": "2020-02-24T14:07:57.939585Z",
     "start_time": "2020-02-24T14:07:57.610676Z"
    }
   },
   "outputs": [
    {
     "data": {
      "text/plain": [
       "CONFIRMED         2293\n",
       "FALSE POSITIVE    2293\n",
       "CANDIDATE         2248\n",
       "Name: koi_disposition, dtype: int64"
      ]
     },
     "execution_count": 24,
     "metadata": {},
     "output_type": "execute_result"
    },
    {
     "data": {
      "image/png": "[encoded data removed]",
      "text/plain": [
       "<Figure size 432x288 with 1 Axes>"
      ]
     },
     "metadata": {
      "needs_background": "light"
     },
     "output_type": "display_data"
    }
   ],
   "source": [
    "y_rs.hist(color=\"purple\", grid=False);\n",
    "y_rs.value_counts()"
   ]
  },
  {
   "cell_type": "code",
   "execution_count": 25,
   "metadata": {
    "ExecuteTime": {
     "end_time": "2020-02-24T14:07:57.971455Z",
     "start_time": "2020-02-24T14:07:57.943032Z"
    }
   },
   "outputs": [],
   "source": [
    "# Split data\n",
    "X_rs_train, X_rs_test, y_rs_train, y_rs_test = \\\n",
    "    train_test_split(X_rs, y_rs, stratify = y_rs, random_state=42)\n",
    "\n",
    "# Rescale data\n",
    "X_rs_scaler = StandardScaler().fit(X_rs_train)\n",
    "X_rs_train_scaled = X_rs_scaler.transform(X_rs_train)\n",
    "X_rs_test_scaled = X_rs_scaler.transform(X_rs_test)"
   ]
  },
  {
   "cell_type": "code",
   "execution_count": 26,
   "metadata": {
    "ExecuteTime": {
     "end_time": "2020-02-24T14:08:00.453965Z",
     "start_time": "2020-02-24T14:07:57.992920Z"
    }
   },
   "outputs": [
    {
     "name": "stdout",
     "output_type": "stream",
     "text": [
      "Best parameters: {'C': 10}\n"
     ]
    }
   ],
   "source": [
    "# Define Log classifier and fit using GridSearchCV\n",
    "parameters = {'C': [0.1, 1, 10]}\n",
    "\n",
    "log = GridSearchCV(LogisticRegression(random_state = 42, \\\n",
    "                                      max_iter = 1000), parameters)\n",
    "log.fit(X_rs_train_scaled, y_rs_train)\n",
    "\n",
    "# Display best parameters\n",
    "print(f\"Best parameters: {log.best_params_}\")"
   ]
  },
  {
   "cell_type": "code",
   "execution_count": 27,
   "metadata": {
    "ExecuteTime": {
     "end_time": "2020-02-24T14:08:00.598743Z",
     "start_time": "2020-02-24T14:08:00.458983Z"
    }
   },
   "outputs": [
    {
     "name": "stdout",
     "output_type": "stream",
     "text": [
      "[[231 316  15]\n",
      " [136 428  10]\n",
      " [ 23   6 544]]\n",
      "                precision    recall  f1-score   support\n",
      "\n",
      "     CANDIDATE       0.59      0.41      0.49       562\n",
      "     CONFIRMED       0.57      0.75      0.65       574\n",
      "FALSE POSITIVE       0.96      0.95      0.95       573\n",
      "\n",
      "      accuracy                           0.70      1709\n",
      "     macro avg       0.71      0.70      0.69      1709\n",
      "  weighted avg       0.71      0.70      0.70      1709\n",
      "\n"
     ]
    }
   ],
   "source": [
    "# Display evaluation metrics\n",
    "log_pred = log.predict(X_rs_test_scaled)\n",
    "print(confusion_matrix(y_rs_test, log_pred))\n",
    "print(classification_report(y_rs_test, log_pred))"
   ]
  },
  {
   "cell_type": "markdown",
   "metadata": {},
   "source": [
    "# Determine best classifier\n",
    "\n",
    "As all of the metrics were the highest for the random forest, I determined that is the best classifier."
   ]
  }
 ],
 "metadata": {
  "kernel_info": {
   "name": "dev"
  },
  "kernelspec": {
   "display_name": "PythonData",
   "language": "python",
   "name": "pythondata"
  },
  "language_info": {
   "codemirror_mode": {
    "name": "ipython",
    "version": 3
   },
   "file_extension": ".py",
   "mimetype": "text/x-python",
   "name": "python",
   "nbconvert_exporter": "python",
   "pygments_lexer": "ipython3",
   "version": "3.7.3"
  },
  "nteract": {
   "version": "0.12.3"
  },
  "toc": {
   "base_numbering": 1,
   "nav_menu": {},
   "number_sections": true,
   "sideBar": true,
   "skip_h1_title": false,
   "title_cell": "Table of Contents",
   "title_sidebar": "Contents",
   "toc_cell": false,
   "toc_position": {},
   "toc_section_display": true,
   "toc_window_display": false
  }
 },
 "nbformat": 4,
 "nbformat_minor": 2
}
